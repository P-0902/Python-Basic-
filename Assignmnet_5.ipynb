{
  "nbformat": 4,
  "nbformat_minor": 0,
  "metadata": {
    "colab": {
      "provenance": []
    },
    "kernelspec": {
      "name": "python3",
      "display_name": "Python 3"
    },
    "language_info": {
      "name": "python"
    }
  },
  "cells": [
    {
      "cell_type": "code",
      "execution_count": null,
      "metadata": {
        "id": "M4frKehLxnFX"
      },
      "outputs": [],
      "source": [
        "# Files, exceptional handling, logging and memory management Questions :\n"
      ]
    },
    {
      "cell_type": "markdown",
      "source": [
        "Q 1 : Difference between interpreted and compiled languages?\n",
        "- Compiled Languages: The entire code is converted into machine code by a compiler before execution. Examples: C, C++.\n",
        "\n",
        " -  Advantages: Faster execution, optimized code.\n",
        "\n",
        " - Disadvantages: Needs recompilation after changes, harder to debug.\n",
        "\n",
        "- Interpreted Languages: Code is executed line-by-line by an interpreter at runtime. Examples: Python, JavaScript.\n",
        "\n",
        "  - Advantages: Easy debugging, platform-independent.\n",
        "\n",
        "  - Disadvantages: Slower execution speed."
      ],
      "metadata": {
        "id": "IbKPjcp8xyEl"
      }
    },
    {
      "cell_type": "markdown",
      "source": [
        "2. Exception handling in Python\n",
        "- Mechanism to handle runtime errors without stopping the program abruptly.\n",
        "\n",
        "- Achieved using try, except, else, finally blocks to detect, catch, and handle errors."
      ],
      "metadata": {
        "id": "I7Qn50WvyQcl"
      }
    },
    {
      "cell_type": "markdown",
      "source": [
        "3. Purpose of the finally block?\n",
        "\n",
        "- Executes code regardless of whether an exception occurred or not.\n",
        "\n",
        "- Commonly used for cleanup tasks like closing files, releasing resources, or disconnecting from a database."
      ],
      "metadata": {
        "id": "KZ66YtSAyZXd"
      }
    },
    {
      "cell_type": "markdown",
      "source": [
        "4.  What is logging in Python0\n",
        "- A process of recording information about program execution, errors, warnings, and debugging messages.\n",
        "\n",
        "- The logging module allows creating logs with different severity levels, formats, and outputs."
      ],
      "metadata": {
        "id": "O5eL9rmNyda4"
      }
    },
    {
      "cell_type": "markdown",
      "source": [
        "5. Significance of the __del__ method\n",
        "- Destructor method in Python, automatically called when an object is about to be destroyed.\n",
        "\n",
        "- Used for cleanup operations such as closing files or freeing resources."
      ],
      "metadata": {
        "id": "9o62SUo0yqB3"
      }
    },
    {
      "cell_type": "markdown",
      "source": [
        "6. Difference between import and from ... import\n",
        "- import module → Imports the whole module, accessed with module.name.\n",
        "\n",
        "- from module import name → Imports specific functions/classes/variables directly, no need for module. prefix.\n",
        "\n"
      ],
      "metadata": {
        "id": "7qj8Dl-7yvbK"
      }
    },
    {
      "cell_type": "markdown",
      "source": [
        "7. Handling multiple exceptions\n",
        "- Multiple except blocks:"
      ],
      "metadata": {
        "id": "fWzRO3psy4iG"
      }
    },
    {
      "cell_type": "code",
      "source": [
        "try:\n",
        "    ...\n",
        "except ValueError:\n",
        "    ...\n",
        "except TypeError:\n",
        "    ...\n"
      ],
      "metadata": {
        "id": "lJrCLCkay-Fh"
      },
      "execution_count": 1,
      "outputs": []
    },
    {
      "cell_type": "markdown",
      "source": [
        "- Tuple in except:"
      ],
      "metadata": {
        "id": "Hv0Kf0nGzHt4"
      }
    },
    {
      "cell_type": "code",
      "source": [
        "try:\n",
        "    pass # Replace with the code that might raise exceptions\n",
        "except (ValueError, TypeError) as e:\n",
        "    ..."
      ],
      "metadata": {
        "colab": {
          "base_uri": "https://localhost:8080/",
          "height": 106
        },
        "id": "SKjQn7N1zJjD",
        "outputId": "bba43af4-1446-4532-d92b-eef1de21fc69"
      },
      "execution_count": 2,
      "outputs": [
        {
          "output_type": "error",
          "ename": "SyntaxError",
          "evalue": "invalid syntax (ipython-input-2205144504.py, line 1)",
          "traceback": [
            "\u001b[0;36m  File \u001b[0;32m\"/tmp/ipython-input-2205144504.py\"\u001b[0;36m, line \u001b[0;32m1\u001b[0m\n\u001b[0;31m    except (ValueError, TypeError) as e:\u001b[0m\n\u001b[0m    ^\u001b[0m\n\u001b[0;31mSyntaxError\u001b[0m\u001b[0;31m:\u001b[0m invalid syntax\n"
          ]
        }
      ]
    },
    {
      "cell_type": "markdown",
      "source": [
        "8. Purpose of with statement in file handling\n",
        "- Ensures files are closed automatically after operations, even if exceptions occur.\n",
        "\n",
        "- Prevents resource leaks.\n"
      ],
      "metadata": {
        "id": "kkEFjzIPzWpU"
      }
    },
    {
      "cell_type": "code",
      "source": [
        "with open(\"file.txt\") as f:\n",
        "    data = f.read()\n"
      ],
      "metadata": {
        "colab": {
          "base_uri": "https://localhost:8080/",
          "height": 158
        },
        "id": "YO9wij_fz5qr",
        "outputId": "f32079a9-bae3-4359-f9cc-f31021a6fc58"
      },
      "execution_count": 3,
      "outputs": [
        {
          "output_type": "error",
          "ename": "FileNotFoundError",
          "evalue": "[Errno 2] No such file or directory: 'file.txt'",
          "traceback": [
            "\u001b[0;31m---------------------------------------------------------------------------\u001b[0m",
            "\u001b[0;31mFileNotFoundError\u001b[0m                         Traceback (most recent call last)",
            "\u001b[0;32m/tmp/ipython-input-2118864295.py\u001b[0m in \u001b[0;36m<cell line: 0>\u001b[0;34m()\u001b[0m\n\u001b[0;32m----> 1\u001b[0;31m \u001b[0;32mwith\u001b[0m \u001b[0mopen\u001b[0m\u001b[0;34m(\u001b[0m\u001b[0;34m\"file.txt\"\u001b[0m\u001b[0;34m)\u001b[0m \u001b[0;32mas\u001b[0m \u001b[0mf\u001b[0m\u001b[0;34m:\u001b[0m\u001b[0;34m\u001b[0m\u001b[0;34m\u001b[0m\u001b[0m\n\u001b[0m\u001b[1;32m      2\u001b[0m     \u001b[0mdata\u001b[0m \u001b[0;34m=\u001b[0m \u001b[0mf\u001b[0m\u001b[0;34m.\u001b[0m\u001b[0mread\u001b[0m\u001b[0;34m(\u001b[0m\u001b[0;34m)\u001b[0m\u001b[0;34m\u001b[0m\u001b[0;34m\u001b[0m\u001b[0m\n",
            "\u001b[0;31mFileNotFoundError\u001b[0m: [Errno 2] No such file or directory: 'file.txt'"
          ]
        }
      ]
    },
    {
      "cell_type": "markdown",
      "source": [
        "9. Difference between multithreading and multiprocessing\n",
        "- Multithreading: Multiple threads share the same memory space; best for I/O-bound tasks.\n",
        "\n",
        "- Multiprocessing: Each process has its own memory; best for CPU-bound tasks."
      ],
      "metadata": {
        "id": "qnSP815H0CDN"
      }
    },
    {
      "cell_type": "markdown",
      "source": [
        "10. Advantages of using logging\n",
        "- Permanent record of events.\n",
        "\n",
        "- Easier debugging and monitoring.\n",
        "\n",
        "- Different levels of severity.\n",
        "\n",
        "- Can log to files, consoles, or remote servers."
      ],
      "metadata": {
        "id": "n4-Nc-_80L5B"
      }
    },
    {
      "cell_type": "markdown",
      "source": [
        "11. Memory management in Python\n",
        "- Managed by Python Memory Manager.\n",
        "\n",
        "- Uses private heap space for storing objects.\n",
        "\n",
        "- Garbage collector automatically removes unused objects."
      ],
      "metadata": {
        "id": "8QaIC12d0Uhf"
      }
    },
    {
      "cell_type": "markdown",
      "source": [
        "12. Basic steps in exception handling\n",
        "- try → Wraps risky code.\n",
        "\n",
        "- except → Catches and handles errors.\n",
        "\n",
        "- else → Executes if no exception occurs.\n",
        "\n",
        "- finally → Always executes cleanup code.\n",
        "\n",
        "13. Importance of memory management\n",
        "- Prevents memory leaks.\n",
        "\n",
        "- Improves program performance.\n",
        "\n",
        "- Ensures efficient use of system resources.\n",
        "\n",
        "14. Role of try and except\n",
        "- try: Block of code where an error might occur.\n",
        "\n",
        "- except: Block to handle that error gracefully.\n",
        "\n",
        "15. Python's garbage collection system\n",
        "- Uses reference counting to track objects in use.\n",
        "\n",
        "- When reference count becomes zero, object is destroyed.\n",
        "\n",
        "- Also uses a cyclic garbage collector to remove reference cycles.\n",
        "\n",
        "16. Purpose of else block in exception handling?\n",
        "\n",
        "- Runs only if the try block executes successfully without exceptions.\n",
        "\n",
        "17. Common logging levels?\n",
        "\n",
        "- DEBUG – Detailed diagnostic info.\n",
        "\n",
        "- INFO – General information.\n",
        "\n",
        "- WARNING – Potential issues.\n",
        "\n",
        "- ERROR – Serious problems.\n",
        "\n",
        "- CRITICAL – Very severe errors.\n",
        "\n",
        "18. Difference between os.fork() and multiprocessing ?\n",
        "- os.fork(): Creates a child process (Unix/Linux only). Low-level, no built-in process management.\n",
        "\n",
        "- multiprocessing module: Works cross-platform, provides high-level API for parallel processing.\n",
        "\n",
        "19. Importance of closing a file?\n",
        "\n",
        "- Frees system resources.\n",
        "\n",
        "- Ensures data is properly saved to disk (buffer flush).\n",
        "\n",
        "20. Difference between file.read() and file.readline()\n",
        "- read(): Reads the entire file or specified bytes.\n",
        "\n",
        "- readline(): Reads one line at a time.\n",
        "\n",
        "21. Logging module usage\n",
        "- Used for tracking program execution.\n",
        "\n",
        "- Allows setting log levels, formatting messages, and writing logs to files or streams.\n",
        "\n",
        "22. os module in file handling\n",
        "- Interacts with the operating system:\n",
        "\n",
        "- Create/delete files.\n",
        "\n",
        "- Check file existence.\n",
        "\n",
        "- Rename/move files.\n",
        "\n",
        "- Work with directories.\n",
        "\n",
        "23. Challenges in memory management\n",
        "- Reference cycles can delay garbage collection.\n",
        "\n",
        "- Memory fragmentation.\n",
        "\n",
        "- High memory usage for large datasets.\n",
        "\n"
      ],
      "metadata": {
        "id": "YVPYosAW080G"
      }
    },
    {
      "cell_type": "markdown",
      "source": [
        "24. Raising an exception manually?"
      ],
      "metadata": {
        "id": "0Ca00tEc1yFM"
      }
    },
    {
      "cell_type": "code",
      "source": [
        "raise ValueError(\"Invalid value provided\")\n"
      ],
      "metadata": {
        "colab": {
          "base_uri": "https://localhost:8080/",
          "height": 141
        },
        "id": "3X6XM-cA13yh",
        "outputId": "dda2aa68-d6a3-4807-8494-b24efbf38af4"
      },
      "execution_count": 4,
      "outputs": [
        {
          "output_type": "error",
          "ename": "ValueError",
          "evalue": "Invalid value provided",
          "traceback": [
            "\u001b[0;31m---------------------------------------------------------------------------\u001b[0m",
            "\u001b[0;31mValueError\u001b[0m                                Traceback (most recent call last)",
            "\u001b[0;32m/tmp/ipython-input-2350949355.py\u001b[0m in \u001b[0;36m<cell line: 0>\u001b[0;34m()\u001b[0m\n\u001b[0;32m----> 1\u001b[0;31m \u001b[0;32mraise\u001b[0m \u001b[0mValueError\u001b[0m\u001b[0;34m(\u001b[0m\u001b[0;34m\"Invalid value provided\"\u001b[0m\u001b[0;34m)\u001b[0m\u001b[0;34m\u001b[0m\u001b[0;34m\u001b[0m\u001b[0m\n\u001b[0m",
            "\u001b[0;31mValueError\u001b[0m: Invalid value provided"
          ]
        }
      ]
    },
    {
      "cell_type": "markdown",
      "source": [
        "25. Importance of multithreading in certain applications\n",
        "- Allows concurrent execution of tasks.\n",
        "\n",
        "- Improves responsiveness in I/O-heavy applications (web scraping, file reading, networking).\n",
        "\n",
        "- Reduces waiting time when some tasks are idle due to I/O delays."
      ],
      "metadata": {
        "id": "t8P8LhM0175j"
      }
    },
    {
      "cell_type": "markdown",
      "source": [
        "# Practical Questions :"
      ],
      "metadata": {
        "id": "A9wnLvxf2GUX"
      }
    },
    {
      "cell_type": "markdown",
      "source": [
        "1. Open a file for writing and write a string\n",
        "\n",
        "\n",
        "Explanation:\n",
        "\n",
        "\"w\" mode overwrites the file or creates it if it doesn’t exist.\n",
        "\n",
        "with ensures file is closed automatically.\n",
        "\n"
      ],
      "metadata": {
        "id": "XDytR7-r2OZX"
      }
    },
    {
      "cell_type": "code",
      "source": [
        "# Open file in write mode ('w')\n",
        "with open(\"example.txt\", \"w\") as f:\n",
        "    f.write(\"Hello, Python World!\")\n",
        "print(\"Data written successfully.\")"
      ],
      "metadata": {
        "colab": {
          "base_uri": "https://localhost:8080/"
        },
        "id": "yv4hthax2upX",
        "outputId": "58a903a1-34f8-4043-a40b-4a68de5d8c75"
      },
      "execution_count": 5,
      "outputs": [
        {
          "output_type": "stream",
          "name": "stdout",
          "text": [
            "Data written successfully.\n"
          ]
        }
      ]
    },
    {
      "cell_type": "markdown",
      "source": [
        "2. Read contents of a file and print each line?"
      ],
      "metadata": {
        "id": "65LI3h-j2zv8"
      }
    },
    {
      "cell_type": "code",
      "source": [
        "with open(\"example.txt\", \"r\") as f:\n",
        "    for line in f:\n",
        "        print(line.strip())\n"
      ],
      "metadata": {
        "colab": {
          "base_uri": "https://localhost:8080/"
        },
        "id": "mjofiacv23dp",
        "outputId": "96afb56e-1db7-4a14-961f-b7e238d24dba"
      },
      "execution_count": 6,
      "outputs": [
        {
          "output_type": "stream",
          "name": "stdout",
          "text": [
            "Hello, Python World!\n"
          ]
        }
      ]
    },
    {
      "cell_type": "markdown",
      "source": [
        "Explanation:\n",
        "\n",
        "\"r\" mode is for reading.\n",
        "\n",
        ".strip() removes newline characters."
      ],
      "metadata": {
        "id": "2Fselj3P2-wl"
      }
    },
    {
      "cell_type": "markdown",
      "source": [
        "3. Handle case when file doesn’t exist ?"
      ],
      "metadata": {
        "id": "VtdPSBAy3DAR"
      }
    },
    {
      "cell_type": "code",
      "source": [
        "try:\n",
        "    with open(\"nofile.txt\", \"r\") as f:\n",
        "        print(f.read())\n",
        "except FileNotFoundError:\n",
        "    print(\"Error: The file does not exist.\")\n"
      ],
      "metadata": {
        "colab": {
          "base_uri": "https://localhost:8080/"
        },
        "id": "YBdGqzL73HIM",
        "outputId": "f513b26d-06d7-4672-ac09-2e53b44ef36b"
      },
      "execution_count": 7,
      "outputs": [
        {
          "output_type": "stream",
          "name": "stdout",
          "text": [
            "Error: The file does not exist.\n"
          ]
        }
      ]
    },
    {
      "cell_type": "markdown",
      "source": [
        "4. Copy contents from one file to another ?"
      ],
      "metadata": {
        "id": "08_jPz1N3KTs"
      }
    },
    {
      "cell_type": "code",
      "source": [
        "with open(\"source.txt\", \"r\") as src, open(\"dest.txt\", \"w\") as dest:\n",
        "    for line in src:\n",
        "        dest.write(line)\n",
        "print(\"File copied successfully.\")\n"
      ],
      "metadata": {
        "colab": {
          "base_uri": "https://localhost:8080/",
          "height": 193
        },
        "id": "no96GWWB3Vbs",
        "outputId": "685e0de2-80a1-49c1-c85a-235388e1fb55"
      },
      "execution_count": 8,
      "outputs": [
        {
          "output_type": "error",
          "ename": "FileNotFoundError",
          "evalue": "[Errno 2] No such file or directory: 'source.txt'",
          "traceback": [
            "\u001b[0;31m---------------------------------------------------------------------------\u001b[0m",
            "\u001b[0;31mFileNotFoundError\u001b[0m                         Traceback (most recent call last)",
            "\u001b[0;32m/tmp/ipython-input-2395917198.py\u001b[0m in \u001b[0;36m<cell line: 0>\u001b[0;34m()\u001b[0m\n\u001b[0;32m----> 1\u001b[0;31m \u001b[0;32mwith\u001b[0m \u001b[0mopen\u001b[0m\u001b[0;34m(\u001b[0m\u001b[0;34m\"source.txt\"\u001b[0m\u001b[0;34m,\u001b[0m \u001b[0;34m\"r\"\u001b[0m\u001b[0;34m)\u001b[0m \u001b[0;32mas\u001b[0m \u001b[0msrc\u001b[0m\u001b[0;34m,\u001b[0m \u001b[0mopen\u001b[0m\u001b[0;34m(\u001b[0m\u001b[0;34m\"dest.txt\"\u001b[0m\u001b[0;34m,\u001b[0m \u001b[0;34m\"w\"\u001b[0m\u001b[0;34m)\u001b[0m \u001b[0;32mas\u001b[0m \u001b[0mdest\u001b[0m\u001b[0;34m:\u001b[0m\u001b[0;34m\u001b[0m\u001b[0;34m\u001b[0m\u001b[0m\n\u001b[0m\u001b[1;32m      2\u001b[0m     \u001b[0;32mfor\u001b[0m \u001b[0mline\u001b[0m \u001b[0;32min\u001b[0m \u001b[0msrc\u001b[0m\u001b[0;34m:\u001b[0m\u001b[0;34m\u001b[0m\u001b[0;34m\u001b[0m\u001b[0m\n\u001b[1;32m      3\u001b[0m         \u001b[0mdest\u001b[0m\u001b[0;34m.\u001b[0m\u001b[0mwrite\u001b[0m\u001b[0;34m(\u001b[0m\u001b[0mline\u001b[0m\u001b[0;34m)\u001b[0m\u001b[0;34m\u001b[0m\u001b[0;34m\u001b[0m\u001b[0m\n\u001b[1;32m      4\u001b[0m \u001b[0mprint\u001b[0m\u001b[0;34m(\u001b[0m\u001b[0;34m\"File copied successfully.\"\u001b[0m\u001b[0;34m)\u001b[0m\u001b[0;34m\u001b[0m\u001b[0;34m\u001b[0m\u001b[0m\n",
            "\u001b[0;31mFileNotFoundError\u001b[0m: [Errno 2] No such file or directory: 'source.txt'"
          ]
        }
      ]
    },
    {
      "cell_type": "markdown",
      "source": [
        "5. Catch division by zero ?"
      ],
      "metadata": {
        "id": "bB3Pwxf03a_6"
      }
    },
    {
      "cell_type": "code",
      "source": [
        "try:\n",
        "    result = 10 / 0\n",
        "except ZeroDivisionError:\n",
        "    print(\"You cannot divide by zero!\")\n"
      ],
      "metadata": {
        "colab": {
          "base_uri": "https://localhost:8080/"
        },
        "id": "VBRsiVug3d3S",
        "outputId": "633f66a8-5cfb-4f0f-fa96-0abfc89f8ea5"
      },
      "execution_count": 9,
      "outputs": [
        {
          "output_type": "stream",
          "name": "stdout",
          "text": [
            "You cannot divide by zero!\n"
          ]
        }
      ]
    },
    {
      "cell_type": "markdown",
      "source": [
        "6. Log an error on division by zero ?"
      ],
      "metadata": {
        "id": "DNZzq59c3gc3"
      }
    },
    {
      "cell_type": "code",
      "source": [
        "import logging\n",
        "logging.basicConfig(filename=\"error.log\", level=logging.ERROR)\n",
        "\n",
        "try:\n",
        "    result = 10 / 0\n",
        "except ZeroDivisionError:\n",
        "    logging.error(\"Division by zero occurred.\")\n"
      ],
      "metadata": {
        "colab": {
          "base_uri": "https://localhost:8080/"
        },
        "id": "V-6aQeU-3jNn",
        "outputId": "809401cb-eb4d-46b2-cf12-07c6923a4f27"
      },
      "execution_count": 10,
      "outputs": [
        {
          "output_type": "stream",
          "name": "stderr",
          "text": [
            "ERROR:root:Division by zero occurred.\n"
          ]
        }
      ]
    },
    {
      "cell_type": "markdown",
      "source": [
        "7. Log messages at different levels ?\n",
        "\n"
      ],
      "metadata": {
        "id": "lRkSv9AQ3lzA"
      }
    },
    {
      "cell_type": "code",
      "source": [
        "import logging\n",
        "logging.basicConfig(filename=\"app.log\", level=logging.DEBUG)\n",
        "\n",
        "logging.info(\"This is an INFO message.\")\n",
        "logging.warning(\"This is a WARNING message.\")\n",
        "logging.error(\"This is an ERROR message.\")\n"
      ],
      "metadata": {
        "colab": {
          "base_uri": "https://localhost:8080/"
        },
        "id": "yblef7HP3rT3",
        "outputId": "af10bc53-e86b-4c16-e9d3-8f3997f71b85"
      },
      "execution_count": 11,
      "outputs": [
        {
          "output_type": "stream",
          "name": "stderr",
          "text": [
            "WARNING:root:This is a WARNING message.\n",
            "ERROR:root:This is an ERROR message.\n"
          ]
        }
      ]
    },
    {
      "cell_type": "markdown",
      "source": [
        "8. Handle file opening error ?\n"
      ],
      "metadata": {
        "id": "ut7eNO313uPJ"
      }
    },
    {
      "cell_type": "code",
      "source": [
        "try:\n",
        "    with open(\"data.txt\", \"r\") as f:\n",
        "        print(f.read())\n",
        "except FileNotFoundError as e:\n",
        "    print(\"File not found:\", e)\n"
      ],
      "metadata": {
        "colab": {
          "base_uri": "https://localhost:8080/"
        },
        "id": "Ttb6mE0q3yBo",
        "outputId": "3bf7a725-9203-4b42-d2ce-f86453641b17"
      },
      "execution_count": 12,
      "outputs": [
        {
          "output_type": "stream",
          "name": "stdout",
          "text": [
            "File not found: [Errno 2] No such file or directory: 'data.txt'\n"
          ]
        }
      ]
    },
    {
      "cell_type": "markdown",
      "source": [
        "9. Read file line-by-line into a list"
      ],
      "metadata": {
        "id": "75I5A2ni31Y7"
      }
    },
    {
      "cell_type": "code",
      "source": [
        "with open(\"example.txt\", \"r\") as f:\n",
        "    lines = f.readlines()\n",
        "print(lines)\n"
      ],
      "metadata": {
        "colab": {
          "base_uri": "https://localhost:8080/"
        },
        "id": "tbuCrz7J333S",
        "outputId": "2a39d436-6149-4351-880e-b6588de41135"
      },
      "execution_count": 13,
      "outputs": [
        {
          "output_type": "stream",
          "name": "stdout",
          "text": [
            "['Hello, Python World!']\n"
          ]
        }
      ]
    },
    {
      "cell_type": "markdown",
      "source": [
        "10. Append data to existing file"
      ],
      "metadata": {
        "id": "2oC7iv8w36fz"
      }
    },
    {
      "cell_type": "code",
      "source": [
        "with open(\"example.txt\", \"a\") as f:\n",
        "    f.write(\"\\nNew appended line.\")\n"
      ],
      "metadata": {
        "id": "qj2PnEcX38zL"
      },
      "execution_count": null,
      "outputs": []
    },
    {
      "cell_type": "markdown",
      "source": [
        "11. Handle missing dictionary key?"
      ],
      "metadata": {
        "id": "8fb-XfY13_oW"
      }
    },
    {
      "cell_type": "code",
      "source": [
        "my_dict = {\"name\": \"Priya\"}\n",
        "try:\n",
        "    print(my_dict[\"age\"])\n",
        "except KeyError:\n",
        "    print(\"Key not found.\")\n"
      ],
      "metadata": {
        "colab": {
          "base_uri": "https://localhost:8080/"
        },
        "id": "eK5ED09w4CJA",
        "outputId": "5e8b82d6-9463-4749-c359-d3ef77ec4a20"
      },
      "execution_count": 14,
      "outputs": [
        {
          "output_type": "stream",
          "name": "stdout",
          "text": [
            "Key not found.\n"
          ]
        }
      ]
    },
    {
      "cell_type": "markdown",
      "source": [
        "12. Multiple except blocks ?"
      ],
      "metadata": {
        "id": "kQovbnsj4GKb"
      }
    },
    {
      "cell_type": "code",
      "source": [
        "try:\n",
        "    num = int(\"abc\")  # ValueError\n",
        "    lst = [1, 2, 3]\n",
        "    print(lst[5])     # IndexError\n",
        "except ValueError:\n",
        "    print(\"Invalid conversion to integer.\")\n",
        "except IndexError:\n",
        "    print(\"List index out of range.\")\n"
      ],
      "metadata": {
        "colab": {
          "base_uri": "https://localhost:8080/"
        },
        "id": "CUjnaHXb4Kzf",
        "outputId": "ca7ae40a-b3c6-4a72-acbd-9abfead835ff"
      },
      "execution_count": 15,
      "outputs": [
        {
          "output_type": "stream",
          "name": "stdout",
          "text": [
            "Invalid conversion to integer.\n"
          ]
        }
      ]
    },
    {
      "cell_type": "markdown",
      "source": [
        "13. Check if file exists?\n"
      ],
      "metadata": {
        "id": "uAsPFJnM4NlK"
      }
    },
    {
      "cell_type": "code",
      "source": [
        "import os\n",
        "if os.path.exists(\"example.txt\"):\n",
        "    print(\"File exists!\")\n",
        "else:\n",
        "    print(\"File does not exist.\")\n"
      ],
      "metadata": {
        "colab": {
          "base_uri": "https://localhost:8080/"
        },
        "id": "s02dHcfy4R0a",
        "outputId": "a9f2176d-59f4-4d9b-de36-1b7c4aea1750"
      },
      "execution_count": 16,
      "outputs": [
        {
          "output_type": "stream",
          "name": "stdout",
          "text": [
            "File exists!\n"
          ]
        }
      ]
    },
    {
      "cell_type": "markdown",
      "source": [
        "14. Logging both INFO and ERROR?"
      ],
      "metadata": {
        "id": "ITAu11G54UzX"
      }
    },
    {
      "cell_type": "code",
      "source": [
        "import logging\n",
        "logging.basicConfig(filename=\"logs.log\", level=logging.DEBUG)\n",
        "\n",
        "logging.info(\"Program started.\")\n",
        "try:\n",
        "    x = 10 / 0\n",
        "except ZeroDivisionError:\n",
        "    logging.error(\"Division by zero.\")\n"
      ],
      "metadata": {
        "colab": {
          "base_uri": "https://localhost:8080/"
        },
        "id": "AsrMAico4XjW",
        "outputId": "8d78972a-32ac-44b1-a338-6d62107f4851"
      },
      "execution_count": 17,
      "outputs": [
        {
          "output_type": "stream",
          "name": "stderr",
          "text": [
            "ERROR:root:Division by zero.\n"
          ]
        }
      ]
    },
    {
      "cell_type": "markdown",
      "source": [
        "15. Print file contents and handle empty file"
      ],
      "metadata": {
        "id": "MwbFWR_64bBf"
      }
    },
    {
      "cell_type": "code",
      "source": [
        "with open(\"example.txt\", \"r\") as f:\n",
        "    content = f.read()\n",
        "    if content.strip() == \"\":\n",
        "        print(\"File is empty.\")\n",
        "    else:\n",
        "        print(content)\n"
      ],
      "metadata": {
        "colab": {
          "base_uri": "https://localhost:8080/"
        },
        "id": "hoq8jaT84d1c",
        "outputId": "702778d0-c73f-4a61-f70d-c1fee47bb638"
      },
      "execution_count": 18,
      "outputs": [
        {
          "output_type": "stream",
          "name": "stdout",
          "text": [
            "Hello, Python World!\n"
          ]
        }
      ]
    },
    {
      "cell_type": "markdown",
      "source": [
        "16. Memory profiling ?"
      ],
      "metadata": {
        "id": "xOGOUYmL4ht6"
      }
    },
    {
      "cell_type": "code",
      "source": [
        "from memory_profiler import profile\n",
        "\n",
        "@profile\n",
        "def my_function():\n",
        "    data = [i for i in range(100000)]\n",
        "    return data\n",
        "\n",
        "my_function()\n"
      ],
      "metadata": {
        "colab": {
          "base_uri": "https://localhost:8080/",
          "height": 383
        },
        "id": "54V-VBbU4knE",
        "outputId": "368ae797-6ae5-4f60-fe56-fa72b6ad87a7"
      },
      "execution_count": 19,
      "outputs": [
        {
          "output_type": "error",
          "ename": "ModuleNotFoundError",
          "evalue": "No module named 'memory_profiler'",
          "traceback": [
            "\u001b[0;31m---------------------------------------------------------------------------\u001b[0m",
            "\u001b[0;31mModuleNotFoundError\u001b[0m                       Traceback (most recent call last)",
            "\u001b[0;32m/tmp/ipython-input-157364120.py\u001b[0m in \u001b[0;36m<cell line: 0>\u001b[0;34m()\u001b[0m\n\u001b[0;32m----> 1\u001b[0;31m \u001b[0;32mfrom\u001b[0m \u001b[0mmemory_profiler\u001b[0m \u001b[0;32mimport\u001b[0m \u001b[0mprofile\u001b[0m\u001b[0;34m\u001b[0m\u001b[0;34m\u001b[0m\u001b[0m\n\u001b[0m\u001b[1;32m      2\u001b[0m \u001b[0;34m\u001b[0m\u001b[0m\n\u001b[1;32m      3\u001b[0m \u001b[0;34m@\u001b[0m\u001b[0mprofile\u001b[0m\u001b[0;34m\u001b[0m\u001b[0;34m\u001b[0m\u001b[0m\n\u001b[1;32m      4\u001b[0m \u001b[0;32mdef\u001b[0m \u001b[0mmy_function\u001b[0m\u001b[0;34m(\u001b[0m\u001b[0;34m)\u001b[0m\u001b[0;34m:\u001b[0m\u001b[0;34m\u001b[0m\u001b[0;34m\u001b[0m\u001b[0m\n\u001b[1;32m      5\u001b[0m     \u001b[0mdata\u001b[0m \u001b[0;34m=\u001b[0m \u001b[0;34m[\u001b[0m\u001b[0mi\u001b[0m \u001b[0;32mfor\u001b[0m \u001b[0mi\u001b[0m \u001b[0;32min\u001b[0m \u001b[0mrange\u001b[0m\u001b[0;34m(\u001b[0m\u001b[0;36m100000\u001b[0m\u001b[0;34m)\u001b[0m\u001b[0;34m]\u001b[0m\u001b[0;34m\u001b[0m\u001b[0;34m\u001b[0m\u001b[0m\n",
            "\u001b[0;31mModuleNotFoundError\u001b[0m: No module named 'memory_profiler'",
            "",
            "\u001b[0;31m---------------------------------------------------------------------------\u001b[0;32m\nNOTE: If your import is failing due to a missing package, you can\nmanually install dependencies using either !pip or !apt.\n\nTo view examples of installing some common dependencies, click the\n\"Open Examples\" button below.\n\u001b[0;31m---------------------------------------------------------------------------\u001b[0m\n"
          ],
          "errorDetails": {
            "actions": [
              {
                "action": "open_url",
                "actionText": "Open Examples",
                "url": "/notebooks/snippets/importing_libraries.ipynb"
              }
            ]
          }
        }
      ]
    },
    {
      "cell_type": "markdown",
      "source": [
        "17. Write list of numbers to file ?"
      ],
      "metadata": {
        "id": "tMyS_QrY4nhR"
      }
    },
    {
      "cell_type": "code",
      "source": [
        "numbers = [1, 2, 3, 4, 5]\n",
        "with open(\"numbers.txt\", \"w\") as f:\n",
        "    for num in numbers:\n",
        "        f.write(str(num) + \"\\n\")\n"
      ],
      "metadata": {
        "id": "nM1OWoQ94szw"
      },
      "execution_count": 20,
      "outputs": []
    },
    {
      "cell_type": "markdown",
      "source": [
        "18. Logging with file rotation (1MB) ?"
      ],
      "metadata": {
        "id": "YhgnJxuR4wRb"
      }
    },
    {
      "cell_type": "code",
      "source": [
        "import logging\n",
        "from logging.handlers import RotatingFileHandler\n",
        "\n",
        "handler = RotatingFileHandler(\"app.log\", maxBytes=1_000_000, backupCount=3)\n",
        "logging.basicConfig(handlers=[handler], level=logging.INFO)\n",
        "\n",
        "logging.info(\"This is a rotating log message.\")\n"
      ],
      "metadata": {
        "id": "CzGEfGcZ4ywd"
      },
      "execution_count": 21,
      "outputs": []
    },
    {
      "cell_type": "markdown",
      "source": [
        "19. Handle IndexError and KeyError?"
      ],
      "metadata": {
        "id": "7ms9kFcA42dP"
      }
    },
    {
      "cell_type": "code",
      "source": [
        "try:\n",
        "    lst = [1, 2, 3]\n",
        "    print(lst[5])  # IndexError\n",
        "    d = {\"name\": \"Priya\"}\n",
        "    print(d[\"age\"])  # KeyError\n",
        "except IndexError:\n",
        "    print(\"Index out of range.\")\n",
        "except KeyError:\n",
        "    print(\"Key not found.\")\n"
      ],
      "metadata": {
        "colab": {
          "base_uri": "https://localhost:8080/"
        },
        "id": "HinyraGN43df",
        "outputId": "e807fe3e-aae8-4405-8115-b1e725569fb3"
      },
      "execution_count": 22,
      "outputs": [
        {
          "output_type": "stream",
          "name": "stdout",
          "text": [
            "Index out of range.\n"
          ]
        }
      ]
    },
    {
      "cell_type": "markdown",
      "source": [
        "20. Read file using context manager?"
      ],
      "metadata": {
        "id": "HX0pbvdd46FB"
      }
    },
    {
      "cell_type": "code",
      "source": [
        "with open(\"example.txt\", \"r\") as f:\n",
        "    print(f.read())\n"
      ],
      "metadata": {
        "colab": {
          "base_uri": "https://localhost:8080/"
        },
        "id": "fbYup5-h48ih",
        "outputId": "c5f7fd5e-f340-464e-d6b4-0147a4f2958e"
      },
      "execution_count": 23,
      "outputs": [
        {
          "output_type": "stream",
          "name": "stdout",
          "text": [
            "Hello, Python World!\n"
          ]
        }
      ]
    },
    {
      "cell_type": "markdown",
      "source": [
        "21. Count occurrences of a word ?"
      ],
      "metadata": {
        "id": "MmM58cIy4-u2"
      }
    },
    {
      "cell_type": "code",
      "source": [
        "word_to_count = \"Python\"\n",
        "with open(\"example.txt\", \"r\") as f:\n",
        "    content = f.read()\n",
        "count = content.split().count(word_to_count)\n",
        "print(f\"'{word_to_count}' occurs {count} times.\")\n"
      ],
      "metadata": {
        "colab": {
          "base_uri": "https://localhost:8080/"
        },
        "id": "MuJ9D1Ro5Bdc",
        "outputId": "9eef9138-4752-4735-df48-f8da5635380e"
      },
      "execution_count": 24,
      "outputs": [
        {
          "output_type": "stream",
          "name": "stdout",
          "text": [
            "'Python' occurs 1 times.\n"
          ]
        }
      ]
    },
    {
      "cell_type": "markdown",
      "source": [
        "22. Check if file is empty ?"
      ],
      "metadata": {
        "id": "Sg77UMsj5DuS"
      }
    },
    {
      "cell_type": "code",
      "source": [
        "import os\n",
        "if os.path.exists(\"example.txt\") and os.path.getsize(\"example.txt\") == 0:\n",
        "    print(\"File is empty.\")\n"
      ],
      "metadata": {
        "id": "JURwedgz5Hcs"
      },
      "execution_count": 25,
      "outputs": []
    },
    {
      "cell_type": "markdown",
      "source": [
        "23. Log error when file handling fails"
      ],
      "metadata": {
        "id": "JmZZYJVG5Kio"
      }
    },
    {
      "cell_type": "code",
      "source": [
        "import logging\n",
        "logging.basicConfig(filename=\"file_errors.log\", level=logging.ERROR)\n",
        "\n",
        "try:\n",
        "    with open(\"nofile.txt\", \"r\") as f:\n",
        "        print(f.read())\n",
        "except FileNotFoundError as e:\n",
        "    logging.error(f\"File handling error: {e}\")\n"
      ],
      "metadata": {
        "colab": {
          "base_uri": "https://localhost:8080/"
        },
        "id": "4NJCB_s95M3E",
        "outputId": "2e3bf25a-db44-4564-abe5-7fdb3c510f50"
      },
      "execution_count": 26,
      "outputs": [
        {
          "output_type": "stream",
          "name": "stderr",
          "text": [
            "ERROR:root:File handling error: [Errno 2] No such file or directory: 'nofile.txt'\n"
          ]
        }
      ]
    }
  ]
}