{
  "nbformat": 4,
  "nbformat_minor": 0,
  "metadata": {
    "colab": {
      "provenance": []
    },
    "kernelspec": {
      "name": "python3",
      "display_name": "Python 3"
    },
    "language_info": {
      "name": "python"
    }
  },
  "cells": [
    {
      "cell_type": "markdown",
      "source": [
        "# Basic Question\n"
      ],
      "metadata": {
        "id": "v6RdmLIlPp6g"
      }
    },
    {
      "cell_type": "markdown",
      "source": [
        "Ques 1.What is Python, and why is it popular?\n",
        "- Python is a high-level, interpreted programming language known for its simple syntax and readability.\n",
        "\n",
        "\n",
        "*  Easy to learn and write\n",
        "*  Large community and support\n",
        "\n",
        "\n",
        "*   Rich libraries and frameworks (like NumPy, Django, Pandas)\n",
        "*   Versatile: used in web development, data science, AI, automation, etc.\n",
        "\n",
        "Ques 2.What is an interpreter in Python?\n",
        "- An interpreter is a program that executes Python code line by line.\n",
        "Python code is not compiled into machine code directly—instead, the interpreter reads each line, translates it into bytecode, and then executes it.\n",
        "\n",
        "Ques 3. What are pre-defined keywords in Python?\n",
        " - Keywords are reserved words that have special meaning in Python.\n",
        "\n",
        " Examples: if, for, while, def, return, True, False, None\n",
        "They cannot be used as variable names.\n",
        "\n",
        "Ques 4. Can keywords be used as variable names?\n",
        "- No, keywords cannot be used as variable names.\n",
        "\n",
        "Ques 5. What is mutability in Python?\n",
        "- Mutability refers to whether an object can be changed after it’s created.\n",
        "\n",
        " - Mutable objects: can be modified (like lists, dictionaries)\n",
        "\n",
        " - Immutable objects: cannot be changed (like strings, tuples)\n",
        "\n",
        "Ques 6.  Why are lists mutable, but tuples are immutable ?\n",
        "- Lists are designed to be flexible and changeable: you can add, remove, or modify elements.\n",
        "\n",
        "- Tuples are meant for fixed data that should not change. This immutability makes them hashable and safe to use as dictionary keys.\n",
        "\n",
        "Ques 7. What is the difference between “==” and “is” operators in Python?\n",
        "- \"==\" checks if values are equal\n",
        "\n",
        "- \"is\" checks if both variables point to the same object in memory.\n",
        "\n",
        "Ques 8.  What are logical operators in Python?\n",
        "- Logical operators are used to combine conditional statements:\n",
        "\n",
        " -  and: True if both conditions are True\n",
        "\n",
        "  - or: True if at least one condition is True\n",
        "\n",
        " - not: Reverses the boolean value.\n",
        "\n",
        "Ques 9.  What is type casting in Python ?\n",
        "- Type casting means converting a variable from one data type to another. It is useful when you want to perform operations between different types or match the expected input/output format.\n",
        "\n",
        "- Python supports two types of type casting:\n",
        " -  Implicit Type Casting\n",
        "This is automatically done by Python when it converts one data type to another during an operation.\n",
        " - Explicit Type Casting\n",
        "This is done manually by the programmer using functions like int(), float(), str(), etc.\n",
        "\n",
        "Ques 10. What is the difference between implicit and explicit type casting ?\n",
        "- Implicit: Python automatically converts the type\n",
        "Example: a = 5 + 3.0 → a becomes float (8.0)\n",
        "\n",
        "- Explicit: You manually convert the type\n",
        "Example: int(\"123\")\n",
        "\n",
        "Ques 11. What is the purpose of conditional statements in Python?\n",
        "- Conditional statements like if, elif, else are used to execute code based on certain conditions.\n",
        "They help the program make decisions.\n",
        "\n",
        "Ques 12. How does the elif statement work?\n",
        "- elif (short for “else if”) is used to check multiple conditions.\n",
        "If the if condition is False, Python checks the elif conditions in order.\n",
        "\n",
        "\n",
        "\n"
      ],
      "metadata": {
        "id": "d3n2YRGzCq7q"
      }
    },
    {
      "cell_type": "code",
      "source": [
        "x = 10\n",
        "if x > 20:\n",
        "    print(\"Greater\")\n",
        "elif x == 10:\n",
        "    print(\"Equal\")\n",
        "else:\n",
        "    print(\"Smaller\")"
      ],
      "metadata": {
        "colab": {
          "base_uri": "https://localhost:8080/"
        },
        "id": "_M_5L0NPL_0v",
        "outputId": "c43681c7-4c23-4136-a488-cdce4fec9764"
      },
      "execution_count": 1,
      "outputs": [
        {
          "output_type": "stream",
          "name": "stdout",
          "text": [
            "Equal\n"
          ]
        }
      ]
    },
    {
      "cell_type": "markdown",
      "source": [
        "Quest 13. What is the difference between for and while loops?\n",
        "- for loop: used when you know how many times you want to run the loop.\n",
        "\n",
        "- while loop: used when you don't know the exact number of repetitions, but run while a condition is true.\n",
        "\n",
        "Ques 14.  Describe a scenario where a while loop is more suitable than a for loop?\n",
        "\n",
        "- In programming, a while loop is more suitable than a for loop when the number of iterations is not known in advance. The while loop keeps running as long as a certain condition is true, which makes it ideal for situations where the loop should continue until a specific event or user action occurs.\n",
        "\n",
        "- Suppose you are building a program where a user must enter the correct password to log in. You don’t know how many attempts the user will take to enter the correct password. So, you need to keep asking until the correct input is received.\n",
        "\n",
        " In this case, a while loop is the perfect choice.\n",
        "\n",
        "\n",
        "\n"
      ],
      "metadata": {
        "id": "-hHnP_dIMPeX"
      }
    },
    {
      "cell_type": "code",
      "source": [
        "password = \"\"\n",
        "while password != \"pwskills\":\n",
        "    password = input(\"Enter your password: \")\n",
        "print(\"Access granted!\")\n"
      ],
      "metadata": {
        "colab": {
          "base_uri": "https://localhost:8080/"
        },
        "id": "0kgBq03Nq6Mq",
        "outputId": "7523a89a-92c3-4d49-d7e5-c3212461e0ee"
      },
      "execution_count": 19,
      "outputs": [
        {
          "output_type": "stream",
          "name": "stdout",
          "text": [
            "Enter your password: 12456\n",
            "Enter your password: pwskills\n",
            "Access granted!\n"
          ]
        }
      ]
    },
    {
      "cell_type": "markdown",
      "source": [
        "# Practical Question\n"
      ],
      "metadata": {
        "id": "aUgvEmQLQA2Q"
      }
    },
    {
      "cell_type": "markdown",
      "source": [
        "Ques 1. Write a Python program to print \"Hello, World!\"?\n"
      ],
      "metadata": {
        "id": "-mWJt0GUkRfw"
      }
    },
    {
      "cell_type": "code",
      "source": [
        "print(\"Hello, World!\")"
      ],
      "metadata": {
        "colab": {
          "base_uri": "https://localhost:8080/"
        },
        "id": "uS1c15TAmW0u",
        "outputId": "b0c3a97a-b39e-4f35-9863-e890cf6c98a1"
      },
      "execution_count": 3,
      "outputs": [
        {
          "output_type": "stream",
          "name": "stdout",
          "text": [
            "Hello, World!\n"
          ]
        }
      ]
    },
    {
      "cell_type": "markdown",
      "source": [
        "Ques 2. Write a Python program that displays your name and age?\n"
      ],
      "metadata": {
        "id": "V6AJAyHwmlZe"
      }
    },
    {
      "cell_type": "code",
      "source": [
        "name = \"Priyanka\"\n",
        "age = 21\n",
        "print(\"Name:\", name)\n",
        "print(\"Age:\", age)\n"
      ],
      "metadata": {
        "colab": {
          "base_uri": "https://localhost:8080/"
        },
        "id": "SDQPsCL2msqu",
        "outputId": "d41609e7-5099-4560-a5a2-e918952c7ca2"
      },
      "execution_count": 20,
      "outputs": [
        {
          "output_type": "stream",
          "name": "stdout",
          "text": [
            "Name: Priyanka\n",
            "Age: 21\n"
          ]
        }
      ]
    },
    {
      "cell_type": "markdown",
      "source": [
        "Ques 3. Write code to print all the pre-defined keywords in Python using the keyword library?"
      ],
      "metadata": {
        "id": "Xh0_1nM_m01y"
      }
    },
    {
      "cell_type": "code",
      "source": [
        "import keyword\n",
        "\n",
        "# Display all Python keywords\n",
        "print(\"Python Keywords are:\")\n",
        "print(keyword.kwlist)\n",
        "\n",
        "\n"
      ],
      "metadata": {
        "colab": {
          "base_uri": "https://localhost:8080/"
        },
        "id": "BY0JB84Mm5Ue",
        "outputId": "d12826b9-6629-485d-e919-3b2d0f3b7205"
      },
      "execution_count": 7,
      "outputs": [
        {
          "output_type": "stream",
          "name": "stdout",
          "text": [
            "Python Keywords are:\n",
            "['False', 'None', 'True', 'and', 'as', 'assert', 'async', 'await', 'break', 'class', 'continue', 'def', 'del', 'elif', 'else', 'except', 'finally', 'for', 'from', 'global', 'if', 'import', 'in', 'is', 'lambda', 'nonlocal', 'not', 'or', 'pass', 'raise', 'return', 'try', 'while', 'with', 'yield']\n"
          ]
        }
      ]
    },
    {
      "cell_type": "markdown",
      "source": [
        "Ques 4. Write a program that checks if a given word is a Python keyword?\n"
      ],
      "metadata": {
        "id": "o2L9WnXznjbH"
      }
    },
    {
      "cell_type": "code",
      "source": [
        "import keyword\n",
        "\n",
        "word = input(\"Enter a word: \")\n",
        "\n",
        "if keyword.iskeyword(word):\n",
        "    print(f\"'{word}' is a Python keyword.\")\n",
        "else:\n",
        "    print(f\"'{word}' is not a Python keyword.\")\n"
      ],
      "metadata": {
        "colab": {
          "base_uri": "https://localhost:8080/"
        },
        "id": "k4-73II6noVk",
        "outputId": "9633ec0a-d3da-48dc-f0df-809fca1e62a3"
      },
      "execution_count": 8,
      "outputs": [
        {
          "output_type": "stream",
          "name": "stdout",
          "text": [
            "Enter a word: assert\n",
            "'assert' is a Python keyword.\n"
          ]
        }
      ]
    },
    {
      "cell_type": "markdown",
      "source": [
        "Quest 5. Write a function to demonstrate the behavior of mutable and immutable arguments?\n"
      ],
      "metadata": {
        "id": "0hd-SjZInylF"
      }
    },
    {
      "cell_type": "code",
      "source": [
        "# Immutable example\n",
        "def modify_number(n):\n",
        "    n += 5\n",
        "    print(\"Inside function (immutable):\", n)\n",
        "\n",
        "# Mutable example\n",
        "def modify_list(lst):\n",
        "    lst.append(99)\n",
        "    print(\"Inside function (mutable):\", lst)\n",
        "\n",
        "# Test the functions\n",
        "num = 10\n",
        "my_list = [1, 2, 3]\n",
        "\n",
        "modify_number(num)\n",
        "print(\"Outside function (immutable):\", num)\n",
        "\n",
        "modify_list(my_list)\n",
        "print(\"Outside function (mutable):\", my_list)\n"
      ],
      "metadata": {
        "colab": {
          "base_uri": "https://localhost:8080/"
        },
        "id": "WOzGhvwbn26l",
        "outputId": "8be89f91-c7c5-49f7-b2f9-4e8baa2feada"
      },
      "execution_count": 9,
      "outputs": [
        {
          "output_type": "stream",
          "name": "stdout",
          "text": [
            "Inside function (immutable): 15\n",
            "Outside function (immutable): 10\n",
            "Inside function (mutable): [1, 2, 3, 99]\n",
            "Outside function (mutable): [1, 2, 3, 99]\n"
          ]
        }
      ]
    },
    {
      "cell_type": "markdown",
      "source": [
        "Ques 6.  Write a program that performs basic arithmetic operations on two user-input numbers?"
      ],
      "metadata": {
        "id": "2kehgW45oKIr"
      }
    },
    {
      "cell_type": "code",
      "source": [
        "a = float(input(\"Enter first number: \"))\n",
        "b = float(input(\"Enter second number: \"))\n",
        "\n",
        "print(\"Addition:\", a + b)\n",
        "print(\"Subtraction:\", a - b)\n",
        "print(\"Multiplication:\", a * b)\n",
        "print(\"Division:\", a / b)"
      ],
      "metadata": {
        "colab": {
          "base_uri": "https://localhost:8080/"
        },
        "id": "zUAZ-ZP-oijD",
        "outputId": "7c715ed1-dcf6-47b9-d783-d536701478f6"
      },
      "execution_count": 10,
      "outputs": [
        {
          "output_type": "stream",
          "name": "stdout",
          "text": [
            "Enter first number: 56\n",
            "Enter second number: 45\n",
            "Addition: 101.0\n",
            "Subtraction: 11.0\n",
            "Multiplication: 2520.0\n",
            "Division: 1.2444444444444445\n"
          ]
        }
      ]
    },
    {
      "cell_type": "markdown",
      "source": [
        "Ques 7. Write a program to demonstrate the use of logical operators?"
      ],
      "metadata": {
        "id": "xYIoQz3oossC"
      }
    },
    {
      "cell_type": "code",
      "source": [
        "x = 10\n",
        "y = 5\n",
        "\n",
        "print(x > 5 and y < 10)\n",
        "print(x > 15 or y < 10)\n",
        "print(not(x > y))"
      ],
      "metadata": {
        "colab": {
          "base_uri": "https://localhost:8080/"
        },
        "id": "nvpJILumoxyV",
        "outputId": "ef14c4c7-46fb-4672-d329-b03a98f22174"
      },
      "execution_count": 11,
      "outputs": [
        {
          "output_type": "stream",
          "name": "stdout",
          "text": [
            "True\n",
            "True\n",
            "False\n"
          ]
        }
      ]
    },
    {
      "cell_type": "markdown",
      "source": [
        " Quest 8. Create a list and tuple in Python, and demonstrate how attempting to change an element works differently for each"
      ],
      "metadata": {
        "id": "67qmA0xxo8Ih"
      }
    },
    {
      "cell_type": "code",
      "source": [
        "my_list = [1, 2, 3]\n",
        "my_list[0] = 10\n",
        "print(\"Modified list:\", my_list)\n",
        "\n",
        "# Tuple - immutable\n",
        "my_tuple = (1, 2, 3)\n",
        "print(\"Original tuple:\", my_tuple)"
      ],
      "metadata": {
        "colab": {
          "base_uri": "https://localhost:8080/"
        },
        "id": "6FOLs1CopADn",
        "outputId": "6caa4eee-3e35-4f0b-a7ea-9b1ee87ae98b"
      },
      "execution_count": 12,
      "outputs": [
        {
          "output_type": "stream",
          "name": "stdout",
          "text": [
            "Modified list: [10, 2, 3]\n",
            "Original tuple: (1, 2, 3)\n"
          ]
        }
      ]
    },
    {
      "cell_type": "markdown",
      "source": [
        "Ques 9. Write a Python program to convert user input from string to integer, float, and boolean types?"
      ],
      "metadata": {
        "id": "ASQiMvglpOP9"
      }
    },
    {
      "cell_type": "code",
      "source": [
        "s = input(\"Enter a number: \")\n",
        "\n",
        "int_val = int(s)\n",
        "float_val = float(s)\n",
        "bool_val = bool(s)\n",
        "\n",
        "print(\"Integer:\", int_val)\n",
        "print(\"Float:\", float_val)\n",
        "print(\"Boolean:\", bool_val)"
      ],
      "metadata": {
        "colab": {
          "base_uri": "https://localhost:8080/"
        },
        "id": "EOYbViIEpTt1",
        "outputId": "a0cbe5d9-0d75-4c37-8c02-e3c1f80c4b20"
      },
      "execution_count": 13,
      "outputs": [
        {
          "output_type": "stream",
          "name": "stdout",
          "text": [
            "Enter a number: 92\n",
            "Integer: 92\n",
            "Float: 92.0\n",
            "Boolean: True\n"
          ]
        }
      ]
    },
    {
      "cell_type": "markdown",
      "source": [
        "Ques 10. Write code to demonstrate type casting with list elements?"
      ],
      "metadata": {
        "id": "bbIy0F3Vphsr"
      }
    },
    {
      "cell_type": "code",
      "source": [
        "str_list = [\"1\", \"2\", \"3\", \"4\"]\n",
        "\n",
        "int_list = [int(x) for x in str_list]\n",
        "\n",
        "print(\"Original list (strings):\", str_list)\n",
        "print(\"Converted list (integers):\", int_list)\n"
      ],
      "metadata": {
        "id": "gA376OuOpqJG"
      },
      "execution_count": null,
      "outputs": []
    },
    {
      "cell_type": "markdown",
      "source": [
        "Ques 11. Write a program that checks if a number is positive, negative, or zero"
      ],
      "metadata": {
        "id": "rfp1rMCgp2MC"
      }
    },
    {
      "cell_type": "code",
      "source": [
        "num = float(input(\"Enter a number: \"))\n",
        "\n",
        "if num > 0:\n",
        "    print(\"The number is positive.\")\n",
        "elif num < 0:\n",
        "    print(\"The number is negative.\")\n",
        "else:\n",
        "    print(\"The number is zero.\")\n"
      ],
      "metadata": {
        "colab": {
          "base_uri": "https://localhost:8080/"
        },
        "id": "-cDmN-wrp7ox",
        "outputId": "d4301eea-5f6b-4056-d5c4-798b51d2a4fb"
      },
      "execution_count": 14,
      "outputs": [
        {
          "output_type": "stream",
          "name": "stdout",
          "text": [
            "Enter a number: 82\n",
            "The number is positive.\n"
          ]
        }
      ]
    },
    {
      "cell_type": "markdown",
      "source": [
        "Ques 12. Write a for loop to print numbers from 1 to 10?"
      ],
      "metadata": {
        "id": "epgEhL1DqBkc"
      }
    },
    {
      "cell_type": "code",
      "source": [
        "for i in range(1, 11):\n",
        "    print(i)\n"
      ],
      "metadata": {
        "colab": {
          "base_uri": "https://localhost:8080/"
        },
        "id": "so9H-oqxqG6D",
        "outputId": "22357cff-1007-45b7-f4d7-afcb5170abac"
      },
      "execution_count": 15,
      "outputs": [
        {
          "output_type": "stream",
          "name": "stdout",
          "text": [
            "1\n",
            "2\n",
            "3\n",
            "4\n",
            "5\n",
            "6\n",
            "7\n",
            "8\n",
            "9\n",
            "10\n"
          ]
        }
      ]
    },
    {
      "cell_type": "markdown",
      "source": [
        "Ques 13. Write a Python program to find the sum of all even numbers between 1 and 50?"
      ],
      "metadata": {
        "id": "tQc0PngcqKrE"
      }
    },
    {
      "cell_type": "code",
      "source": [
        "total = 0\n",
        "\n",
        "for i in range(2, 51, 2):\n",
        "    total += i\n",
        "\n",
        "print(\"Sum of even numbers from 1 to 50 is:\", total)\n"
      ],
      "metadata": {
        "colab": {
          "base_uri": "https://localhost:8080/"
        },
        "id": "YCZK_CVvqQyz",
        "outputId": "dd5efc9f-9dcc-4be6-c279-0fdabd72acf1"
      },
      "execution_count": 16,
      "outputs": [
        {
          "output_type": "stream",
          "name": "stdout",
          "text": [
            "Sum of even numbers from 1 to 50 is: 650\n"
          ]
        }
      ]
    },
    {
      "cell_type": "markdown",
      "source": [
        "Ques 14. Write a program to reverse a string using a while loop?"
      ],
      "metadata": {
        "id": "9jjevbUoqYSF"
      }
    },
    {
      "cell_type": "code",
      "source": [
        "text = input(\"Enter a string: \")\n",
        "reversed_str = \"\"\n",
        "i = len(text) - 1\n",
        "\n",
        "while i >= 0:\n",
        "    reversed_str += text[i]\n",
        "    i -= 1\n",
        "\n",
        "print(\"Reversed string:\", reversed_str)\n"
      ],
      "metadata": {
        "colab": {
          "base_uri": "https://localhost:8080/"
        },
        "id": "2ghUr4avqbeV",
        "outputId": "4f1f910f-342b-4f9d-9137-2a8930c2814f"
      },
      "execution_count": 17,
      "outputs": [
        {
          "output_type": "stream",
          "name": "stdout",
          "text": [
            "Enter a string: priyanka\n",
            "Reversed string: aknayirp\n"
          ]
        }
      ]
    },
    {
      "cell_type": "markdown",
      "source": [
        "Ques 15. Write a Python program to calculate the factorial of a number provided by the user using a while loop?"
      ],
      "metadata": {
        "id": "g6JkLjPSqhix"
      }
    },
    {
      "cell_type": "code",
      "source": [
        "num = int(input(\"Enter a number: \"))\n",
        "fact = 1\n",
        "i = 1\n",
        "\n",
        "while i <= num:\n",
        "    fact *= i\n",
        "    i += 1\n",
        "\n",
        "print(f\"Factorial of {num} is:\", fact)\n"
      ],
      "metadata": {
        "colab": {
          "base_uri": "https://localhost:8080/"
        },
        "id": "OnU8wxOOqmpJ",
        "outputId": "7792719f-4d39-4c82-e2a1-02b8609a90b3"
      },
      "execution_count": 18,
      "outputs": [
        {
          "output_type": "stream",
          "name": "stdout",
          "text": [
            "Enter a number: 42\n",
            "Factorial of 42 is: 1405006117752879898543142606244511569936384000000000\n"
          ]
        }
      ]
    }
  ]
}