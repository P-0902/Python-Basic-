{
  "nbformat": 4,
  "nbformat_minor": 0,
  "metadata": {
    "colab": {
      "provenance": []
    },
    "kernelspec": {
      "name": "python3",
      "display_name": "Python 3"
    },
    "language_info": {
      "name": "python"
    }
  },
  "cells": [
    {
      "cell_type": "markdown",
      "source": [
        "# Restful API\n",
        "Ques1. What is a RESTful API?\n",
        "\n",
        "- A RESTful API (Representational State Transfer API) is an architectural style for designing networked applications. It uses HTTP methods to perform operations on resources, which are represented as URLs. The key principles include:\n",
        "\n",
        "- Statelessness: Each request contains all the info needed (no client session stored on the server).\n",
        "\n",
        "- Uniform interface: Resources identified by URLs.\n",
        "\n",
        "- HTTP Methods: GET, POST, PUT, DELETE for CRUD operations.\n",
        "\n",
        "- Data Format: Typically JSON or XML.\n",
        "\n",
        "\n",
        "Ques 2. Explain the concept of API specification\n",
        "\n",
        "- An API specification is a document that defines:\n",
        "\n",
        "- The endpoints (URLs) the API exposes.\n",
        "\n",
        "- The HTTP methods used (GET, POST, etc.).\n",
        "\n",
        "- The request/response structure (headers, parameters, body).\n",
        "\n",
        "- The status codes and error responses.\n",
        "\n",
        "Examples:\n",
        "\n",
        "- OpenAPI (Swagger) for REST APIs.\n",
        "\n",
        "- It helps developers understand how to use the API and ensures consistency in design.\n",
        "\n",
        "Ques 3. What is Flask, and why is it popular for building APIs?\n",
        "\n",
        "- Flask is a lightweight Python web framework designed for simplicity and flexibility.\n",
        "\n",
        "**Why popular for APIs?**\n",
        "\n",
        "- Minimal setup and easy to learn.\n",
        "\n",
        "- Built-in development server.\n",
        "\n",
        "- Extensible with plugins like Flask-RESTful.\n",
        "\n",
        "- Handles routing and HTTP methods easily.\n",
        "\n",
        "Ques4. What is routing in Flask?\n",
        "\n",
        "Routing in Flask maps URLs (endpoints) to Python functions (called view functions).\n",
        "\n",
        "Example:"
      ],
      "metadata": {
        "id": "gBKxgZF-Fp1N"
      }
    },
    {
      "cell_type": "code",
      "source": [
        "@app.route('/hello')\n",
        "def hello():\n",
        "    return \"Hello World\"\n",
        "# Here, /hello is the route, and hello() is executed when that URL is accessed.\n"
      ],
      "metadata": {
        "id": "8sss4AIpHgf5"
      },
      "execution_count": null,
      "outputs": []
    },
    {
      "cell_type": "markdown",
      "source": [
        "ques5. How do you create a simple Flask application?"
      ],
      "metadata": {
        "id": "_oYVaFs6JBKP"
      }
    },
    {
      "cell_type": "code",
      "source": [
        "from flask import Flask\n",
        "app = Flask(__name__)\n",
        "\n",
        "@app.route('/')\n",
        "def home():\n",
        "    return \"Welcome to Flask!\"\n",
        "\n",
        "if __name__ == '__main__':\n",
        "    app.run(debug=True)\n"
      ],
      "metadata": {
        "id": "c-MEokvUJGGJ"
      },
      "execution_count": 2,
      "outputs": []
    },
    {
      "cell_type": "markdown",
      "source": [
        "6. What are HTTP methods used in RESTful APIs?\n",
        "\n",
        "- GET: Retrieve data.\n",
        "\n",
        "- POST: Create new resource.\n",
        "\n",
        "- PUT: Update entire resource.\n",
        "\n",
        "- PATCH: Update part of a resource.\n",
        "\n",
        "- DELETE: Remove resource.\n",
        "\n",
        "Ques 7. What is the purpose of the @app.route() decorator in Flask?\n",
        "\n",
        "- It associates a URL path with a function, telling Flask which function should handle requests to that route.\n",
        "\n",
        "Ques 8. Difference between GET and POST HTTP methods?\n",
        "\n",
        "** GET Method:**\n",
        "\n",
        "- The GET method is used to retrieve data from a server.\n",
        "\n",
        "- Data is sent in the URL query string (visible in the address bar).\n",
        "\n",
        "- GET requests can be cached and bookmarked because the data is part of the URL.\n",
        "\n",
        "- It is idempotent, meaning multiple identical GET requests will have the same effect.\n",
        "\n",
        "- Suitable for safe operations where no changes occur on the server.\n",
        "\n",
        "- Limited data size because the URL has length restrictions.\n",
        "\n",
        "Example: GET /users?id=101\n",
        "\n",
        "**POST Method:**\n",
        "\n",
        "- The POST method is used to send data to the server to create or update resources.\n",
        "\n",
        "- Data is sent in the request body, not visible in the URL.\n",
        "\n",
        "- POST requests cannot be bookmarked or cached easily.\n",
        "\n",
        "- Not idempotent, meaning multiple identical POST requests may create duplicate records.\n",
        "\n",
        "- Suitable for operations that modify server-side data.\n",
        "\n",
        "- No strict size limit for data, can handle large payloads (e.g., file upload).\n",
        "\n",
        "Example: POST /users\n",
        "Body: { \"name\": \"John\", \"age\": 30 }\n",
        "\n",
        "ques 9. How do you handle errors in Flask APIs?\n",
        "\n",
        "\n"
      ],
      "metadata": {
        "id": "UwvMl-ByJ5QJ"
      }
    },
    {
      "cell_type": "code",
      "source": [
        "#use Error handling\n",
        "@app.errorhandler(404)\n",
        "def not_found(e):\n",
        "    return {\"error\": \"Not Found\"}, 404\n",
        "# Return proper HTTP status codes with jsonify().\n"
      ],
      "metadata": {
        "id": "woQF5MKcMIRJ"
      },
      "execution_count": 3,
      "outputs": []
    },
    {
      "cell_type": "markdown",
      "source": [
        "10. How do you connect Flask to a SQL database?\n",
        "\n",
        "- Install Flask-SQLAlchemy:\n",
        "- pip install flask-sqlalchemy\n",
        "\n",
        "Example:\n"
      ],
      "metadata": {
        "id": "qysUwoR_Mnva"
      }
    },
    {
      "cell_type": "code",
      "source": [
        "from flask_sqlalchemy import SQLAlchemy\n",
        "app.config['SQLALCHEMY_DATABASE_URI'] = 'sqlite:///test.db'\n",
        "db = SQLAlchemy(app)"
      ],
      "metadata": {
        "id": "o2kTeS9cNkYJ"
      },
      "execution_count": null,
      "outputs": []
    },
    {
      "cell_type": "markdown",
      "source": [
        "11. What is the role of Flask-SQLAlchemy?\n",
        "\n",
        "- It is an ORM (Object Relational Mapper) that simplifies database interactions.\n",
        "\n",
        "- Allows you to work with Python classes instead of SQL queries."
      ],
      "metadata": {
        "id": "r7EpKNSfNDqp"
      }
    },
    {
      "cell_type": "markdown",
      "source": [
        "12. What are Flask blueprints, and how are they useful?\n",
        "\n",
        "- Blueprints help organize large Flask apps into smaller, modular components.\n",
        "\n",
        "- Useful for large projects with multiple routes."
      ],
      "metadata": {
        "id": "iN8oBLtDNJNG"
      }
    },
    {
      "cell_type": "code",
      "source": [
        "from flask import Blueprint\n",
        "user_bp = Blueprint('user', __name__)\n",
        "\n",
        "@user_bp.route('/profile')\n",
        "def profile():\n",
        "    return \"User Profile\"\n"
      ],
      "metadata": {
        "id": "UmFjjfNjNVqA"
      },
      "execution_count": 4,
      "outputs": []
    },
    {
      "cell_type": "markdown",
      "source": [
        "13. What is the purpose of Flask's request object?\n",
        "\n",
        "- Represents HTTP request data like:\n",
        "\n",
        "- request.args → Query parameters\n",
        "\n",
        "- request.form → Form data\n",
        "\n",
        "- request.json → JSON body\n",
        "\n",
        "Ques 14. How do you create a RESTful API endpoint using Flask?"
      ],
      "metadata": {
        "id": "K7gZN_n3NpA9"
      }
    },
    {
      "cell_type": "code",
      "source": [
        "@app.route('/api/data', methods=['GET'])\n",
        "def get_data():\n",
        "    return jsonify({\"message\": \"Hello API\"})\n",
        "\n"
      ],
      "metadata": {
        "id": "tdeSSeNwOMuJ"
      },
      "execution_count": 8,
      "outputs": []
    },
    {
      "cell_type": "markdown",
      "source": [
        "15. What is the purpose of Flask's jsonify() function?\n",
        "\n",
        "- Converts Python dictionaries to JSON and sets proper Content-Type: application/json.\n",
        "\n",
        " 16. Explain Flask’s url_for() function\n",
        "\n",
        "- Generates a URL for a given function name dynamically:"
      ],
      "metadata": {
        "id": "xJdyt2l9OR-0"
      }
    },
    {
      "cell_type": "code",
      "source": [
        "url_for('home')  # returns '/'\n"
      ],
      "metadata": {
        "id": "W34jYLw2Oh4-"
      },
      "execution_count": null,
      "outputs": []
    },
    {
      "cell_type": "markdown",
      "source": [
        "17. How does Flask handle static files (CSS, JS, images)?\n",
        "\n",
        "- Place them in a folder named static/.\n",
        "\n",
        "- Access via:\n",
        "  -  /static/filename.css\n",
        "\n"
      ],
      "metadata": {
        "id": "dvsBGwj5OjT7"
      }
    },
    {
      "cell_type": "markdown",
      "source": [
        "18. What is an API specification, and how does it help in building a Flask API?\n",
        "\n",
        "- Already covered in Q2, but in Flask context:\n",
        "\n",
        "- It acts as a contract between front-end and back-end teams.\n",
        "\n",
        "- Ensures consistent endpoints, request/response formats.\n",
        "\n",
        " 19. What are HTTP status codes, and why are they important in a Flask API?\n",
        "\n",
        "- Status codes indicate the outcome of an HTTP request:\n",
        "\n",
        "- 200 OK → Success\n",
        "\n",
        "- 201 Created → Resource created\n",
        "\n",
        "- 400 Bad Request → Invalid input\n",
        "\n",
        "- 404 Not Found → Resource missing\n",
        "\n",
        "- Helps clients understand the response.\n",
        "\n",
        " 20. How do you handle POST requests in Flask?"
      ],
      "metadata": {
        "id": "Kkg1HpN4Oz_4"
      }
    },
    {
      "cell_type": "code",
      "source": [
        "@app.route('/submit', methods=['POST'])\n",
        "def submit():\n",
        "    data = request.json\n",
        "    return jsonify({\"received\": data})\n"
      ],
      "metadata": {
        "id": "bUJ_4wacPA2R"
      },
      "execution_count": null,
      "outputs": []
    },
    {
      "cell_type": "markdown",
      "source": [
        " 21. How would you secure a Flask API?\n",
        "\n",
        "- Use Authentication (JWT, OAuth).\n",
        "\n",
        "- Use HTTPS.\n",
        "\n",
        "- Validate input to prevent SQL Injection.\n",
        "\n",
        "- Apply CORS policy if needed.\n",
        "\n",
        "- Rate limiting and API keys.\n",
        "\n",
        " 22. What is the significance of the Flask-RESTful extension?\n",
        "\n",
        "- Simplifies building REST APIs by providing:\n",
        "\n",
        "- Resource-based classes\n",
        "\n",
        "- Automatic input parsing\n",
        "\n",
        "- Easy error handling.\n",
        "\n",
        " 23. What is the role of Flask’s session object?\n",
        "\n",
        "- Stores user-specific data across requests (like login state).\n",
        "\n",
        "- Stored on the client as a signed cookie for security."
      ],
      "metadata": {
        "id": "uAmkUDpCPGZr"
      }
    },
    {
      "cell_type": "markdown",
      "source": [
        "## Practical Question\n",
        "Ques1 : How do you create a basic Flask application?\n"
      ],
      "metadata": {
        "id": "7JxvLnBcPVL2"
      }
    },
    {
      "cell_type": "code",
      "source": [
        "from flask import Flask\n",
        "app = Flask(__name__)\n",
        "\n",
        "@app.route('/')\n",
        "def home():\n",
        "    return \"Hello, Flask!\"\n",
        "\n",
        "if __name__ == '__main__':\n",
        "    app.run(debug=True)\n",
        "# Explanation: Create Flask app, define a route, and run the server."
      ],
      "metadata": {
        "id": "cJhCJHzNQJ7p"
      },
      "execution_count": 11,
      "outputs": []
    },
    {
      "cell_type": "markdown",
      "source": [
        "2. How do you serve static files like images or CSS in Flask?\n",
        "\n",
        "- Place static files in the static/ folder.\n",
        "\n",
        "- Access them using"
      ],
      "metadata": {
        "id": "5xCvqWGLQqGs"
      }
    },
    {
      "cell_type": "markdown",
      "source": [
        "3. How do you define different routes with different HTTP methods in Flask?"
      ],
      "metadata": {
        "id": "cvbLXxl3SQmH"
      }
    },
    {
      "cell_type": "code",
      "source": [
        "@app.route('/submit', methods=['GET', 'POST'])\n",
        "def submit():\n",
        "    if request.method == 'POST':\n",
        "        return \"Form Submitted\"\n",
        "    return \"Submit Page\"\n"
      ],
      "metadata": {
        "id": "qb5FJ2IfSUMm"
      },
      "execution_count": null,
      "outputs": []
    },
    {
      "cell_type": "markdown",
      "source": [
        "4. How do you render HTML templates in Flask?\n",
        "\n",
        "- Place templates in the templates/ folder.\n",
        "\n",
        "- Use render_template():"
      ],
      "metadata": {
        "id": "VPKwUv-LShs7"
      }
    },
    {
      "cell_type": "code",
      "source": [
        "from flask import render_template\n",
        "\n",
        "@app.route('/home')\n",
        "def home():\n",
        "    return render_template('index.html', name=\"Priyanka\")\n"
      ],
      "metadata": {
        "id": "aBJ0PFLTS0bo"
      },
      "execution_count": null,
      "outputs": []
    },
    {
      "cell_type": "markdown",
      "source": [
        "In index.html:"
      ],
      "metadata": {
        "id": "IrOslHM9S3EY"
      }
    },
    {
      "cell_type": "code",
      "source": [
        "<h1>Hello, {{ name }}</h1>\n"
      ],
      "metadata": {
        "id": "mnl9zKkUS4BB"
      },
      "execution_count": null,
      "outputs": []
    },
    {
      "cell_type": "markdown",
      "source": [
        "5. How can you generate URLs for routes in Flask using url_for?"
      ],
      "metadata": {
        "id": "cK0NY6AUS8yg"
      }
    },
    {
      "cell_type": "code",
      "source": [
        "from flask import url_for\n",
        "\n",
        "@app.route('/about')\n",
        "def about():\n",
        "    return \"About Page\"\n",
        "\n",
        "@app.route('/')\n",
        "def home():\n",
        "    return f'<a href=\"{url_for(\"about\")}\">Go to About</a>'\n"
      ],
      "metadata": {
        "id": "kjkaJ--ZTCsp"
      },
      "execution_count": null,
      "outputs": []
    },
    {
      "cell_type": "markdown",
      "source": [
        " 6. How do you handle forms in Flask?"
      ],
      "metadata": {
        "id": "X57CoaXmTNjr"
      }
    },
    {
      "cell_type": "code",
      "source": [
        "@app.route('/form', methods=['GET', 'POST'])\n",
        "def form():\n",
        "    if request.method == 'POST':\n",
        "        name = request.form['name']\n",
        "        return f\"Hello {name}\"\n",
        "    return render_template('form.html')\n"
      ],
      "metadata": {
        "id": "CFZEgf5kTPSV"
      },
      "execution_count": null,
      "outputs": []
    },
    {
      "cell_type": "markdown",
      "source": [
        "7. How can you validate form data in Flask?\n",
        "\n",
        " - Use WTForms library:\n",
        "   -  pip install flask-wtf\n",
        "   \n",
        "Example:"
      ],
      "metadata": {
        "id": "346V0RpJTSHX"
      }
    },
    {
      "cell_type": "code",
      "source": [
        "from flask_wtf import FlaskForm\n",
        "from wtforms import StringField, validators\n",
        "\n",
        "class MyForm(FlaskForm):\n",
        "    name = StringField('Name', [validators.DataRequired()])\n"
      ],
      "metadata": {
        "id": "66ETKs3LTc_9"
      },
      "execution_count": null,
      "outputs": []
    },
    {
      "cell_type": "markdown",
      "source": [
        "8. How do you manage sessions in Flask?"
      ],
      "metadata": {
        "id": "huQzGGMdTxCO"
      }
    },
    {
      "cell_type": "code",
      "source": [
        "from flask import session\n",
        "\n",
        "app.secret_key = \"secret\"\n",
        "\n",
        "@app.route('/set')\n",
        "def set_session():\n",
        "    session['user'] = 'Priyanka'\n",
        "    return \"Session Set\"\n",
        "\n",
        "@app.route('/get')\n",
        "def get_session():\n",
        "    return session.get('user', 'Not Found')\n"
      ],
      "metadata": {
        "id": "D4Yeeel4T2IQ"
      },
      "execution_count": null,
      "outputs": []
    },
    {
      "cell_type": "markdown",
      "source": [
        "9. How do you redirect to a different route in Flask?"
      ],
      "metadata": {
        "id": "W8VqVnOMT6IP"
      }
    },
    {
      "cell_type": "code",
      "source": [
        "from flask import redirect\n",
        "\n",
        "@app.route('/old')\n",
        "def old():\n",
        "    return redirect('/new')\n",
        "\n",
        "@app.route('/new')\n",
        "def new():\n",
        "    return \"New Page\"\n"
      ],
      "metadata": {
        "id": "4Hz6bwmFT8TS"
      },
      "execution_count": null,
      "outputs": []
    },
    {
      "cell_type": "markdown",
      "source": [
        "10. How do you handle errors in Flask (e.g., 404)?"
      ],
      "metadata": {
        "id": "yV2btvpLT_es"
      }
    },
    {
      "cell_type": "code",
      "source": [
        "@app.errorhandler(404)\n",
        "def page_not_found(e):\n",
        "    return \"Page not found!\", 404\n"
      ],
      "metadata": {
        "id": "UpqazryZUCSm"
      },
      "execution_count": null,
      "outputs": []
    },
    {
      "cell_type": "markdown",
      "source": [
        "11. How do you structure a Flask app using Blueprints?\n",
        "\n",
        "Create Blueprint:"
      ],
      "metadata": {
        "id": "NxjqY9LzUEPW"
      }
    },
    {
      "cell_type": "code",
      "source": [
        "from flask import Blueprint\n",
        "user_bp = Blueprint('user', __name__)\n",
        "\n",
        "@user_bp.route('/profile')\n",
        "def profile():\n",
        "    return \"User Profile\"\n"
      ],
      "metadata": {
        "id": "vrmZLt1IUHzN"
      },
      "execution_count": null,
      "outputs": []
    },
    {
      "cell_type": "code",
      "source": [
        "#Register blueprint\n",
        "app.register_blueprint(user_bp, url_prefix='/user')"
      ],
      "metadata": {
        "id": "eQsyEu6AUWrx"
      },
      "execution_count": null,
      "outputs": []
    },
    {
      "cell_type": "markdown",
      "source": [
        "12. How do you define a custom Jinja filter in Flask?"
      ],
      "metadata": {
        "id": "Gr5YgwWCUXlK"
      }
    },
    {
      "cell_type": "code",
      "source": [
        "@app.template_filter('reverse')\n",
        "def reverse_filter(s):\n",
        "    return s[::-1]\n",
        "\n",
        "# In HTML: {{ \"Hello\"|reverse }}\n"
      ],
      "metadata": {
        "id": "ReRfFwetUaVs"
      },
      "execution_count": null,
      "outputs": []
    },
    {
      "cell_type": "markdown",
      "source": [
        "13. How can you redirect with query parameters in Flask?"
      ],
      "metadata": {
        "id": "mzkpd6ljUcmB"
      }
    },
    {
      "cell_type": "code",
      "source": [
        "@app.route('/redirect')\n",
        "def redirect_example():\n",
        "    return redirect(url_for('home', name='Priyanka'))\n"
      ],
      "metadata": {
        "id": "3Usf_A4QUfWR"
      },
      "execution_count": null,
      "outputs": []
    },
    {
      "cell_type": "markdown",
      "source": [
        "14. How do you return JSON responses in Flask?"
      ],
      "metadata": {
        "id": "oSdSkqJzUiZn"
      }
    },
    {
      "cell_type": "code",
      "source": [
        "from flask import jsonify\n",
        "\n",
        "@app.route('/json')\n",
        "def json_response():\n",
        "    return jsonify({\"name\": \"Priyanka\", \"role\": \"Developer\"})\n"
      ],
      "metadata": {
        "id": "hpYnKSHDUkUv"
      },
      "execution_count": null,
      "outputs": []
    },
    {
      "cell_type": "markdown",
      "source": [
        "15. How do you capture URL parameters in Flask?"
      ],
      "metadata": {
        "id": "zJeS0JKXUmJH"
      }
    },
    {
      "cell_type": "code",
      "source": [
        "@app.route('/user/<username>')\n",
        "def user_profile(username):\n",
        "    return f\"Hello {username}\"\n"
      ],
      "metadata": {
        "id": "az_zJNxjUo-8"
      },
      "execution_count": null,
      "outputs": []
    }
  ]
}